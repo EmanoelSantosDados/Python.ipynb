{
  "nbformat": 4,
  "nbformat_minor": 0,
  "metadata": {
    "colab": {
      "provenance": [],
      "authorship_tag": "ABX9TyOhNLxkm+z67FrGn92JBBnP",
      "include_colab_link": true
    },
    "kernelspec": {
      "name": "python3",
      "display_name": "Python 3"
    },
    "language_info": {
      "name": "python"
    }
  },
  "cells": [
    {
      "cell_type": "markdown",
      "metadata": {
        "id": "view-in-github",
        "colab_type": "text"
      },
      "source": [
        "<a href=\"https://colab.research.google.com/github/EmanoelSantosDados/Python.ipynb/blob/main/Python.ipynb\" target=\"_parent\"><img src=\"https://colab.research.google.com/assets/colab-badge.svg\" alt=\"Open In Colab\"/></a>"
      ]
    },
    {
      "cell_type": "code",
      "source": [
        "mensagem = 'Olá Mundo!'     # Variável mensagem vai receber o valor 'Olá Mundo!'\n",
        "print(mensagem)             # Exibe a variável mensagem"
      ],
      "metadata": {
        "colab": {
          "base_uri": "https://localhost:8080/"
        },
        "id": "7DczMGlmWIPv",
        "outputId": "875d190a-0c21-47d0-e4d8-1de1f1eb01c6"
      },
      "execution_count": 1,
      "outputs": [
        {
          "output_type": "stream",
          "name": "stdout",
          "text": [
            "Olá Mundo!\n"
          ]
        }
      ]
    },
    {
      "cell_type": "code",
      "source": [
        "pergunta = input('Qual é o seu nome?')                                         # Recebe o nome do usuário\n",
        "print('É um grande prazer te conhecer', pergunta, '. Seja bem-vinda(o)!')      # Exibe a mensagem"
      ],
      "metadata": {
        "colab": {
          "base_uri": "https://localhost:8080/"
        },
        "id": "Pvp9LbiKWL-H",
        "outputId": "9a0bd89a-1637-4605-a849-a00335122831"
      },
      "execution_count": 2,
      "outputs": [
        {
          "output_type": "stream",
          "name": "stdout",
          "text": [
            "Qual é o seu nome?ana\n",
            "É um grande prazer te conhecer ana . Seja bem-vinda(o)!\n"
          ]
        }
      ]
    },
    {
      "cell_type": "code",
      "source": [
        "soma = 2 + 2      # Função soma resultado 4"
      ],
      "metadata": {
        "id": "vxyma01hWnfw"
      },
      "execution_count": 3,
      "outputs": []
    },
    {
      "cell_type": "code",
      "source": [
        "print(soma)"
      ],
      "metadata": {
        "colab": {
          "base_uri": "https://localhost:8080/"
        },
        "id": "3jnm1fDUWPeG",
        "outputId": "1c59627d-7cf1-4c9c-ebc0-f4ea9b1db002"
      },
      "execution_count": 4,
      "outputs": [
        {
          "output_type": "stream",
          "name": "stdout",
          "text": [
            "4\n"
          ]
        }
      ]
    },
    {
      "cell_type": "code",
      "source": [
        "print(soma * 5)"
      ],
      "metadata": {
        "colab": {
          "base_uri": "https://localhost:8080/"
        },
        "id": "BJPvMAC8WRie",
        "outputId": "9da44722-3dbb-44f2-9540-cfe3067d3ce3"
      },
      "execution_count": 5,
      "outputs": [
        {
          "output_type": "stream",
          "name": "stdout",
          "text": [
            "20\n"
          ]
        }
      ]
    },
    {
      "cell_type": "code",
      "source": [
        "print(soma / 2)"
      ],
      "metadata": {
        "colab": {
          "base_uri": "https://localhost:8080/"
        },
        "id": "X0d-9dQVWTd-",
        "outputId": "d05aec31-fd5d-4bcc-ece4-b8c5dbcc326c"
      },
      "execution_count": 6,
      "outputs": [
        {
          "output_type": "stream",
          "name": "stdout",
          "text": [
            "2.0\n"
          ]
        }
      ]
    },
    {
      "cell_type": "code",
      "source": [
        "print(soma - 1)"
      ],
      "metadata": {
        "colab": {
          "base_uri": "https://localhost:8080/"
        },
        "id": "Yd5P7wrpWVv1",
        "outputId": "3390a181-db70-405f-c684-e31f713ee641"
      },
      "execution_count": 7,
      "outputs": [
        {
          "output_type": "stream",
          "name": "stdout",
          "text": [
            "3\n"
          ]
        }
      ]
    },
    {
      "cell_type": "code",
      "source": [
        "soma = 2 + 2\n",
        "\n",
        "print('Exibi a soma de 2+2=',soma)\n",
        "print('Exibe a multiplicação de 2+2*5=',soma * 5)\n",
        "print('Exibe a divisão de 2+2/2=',soma / 2)\n",
        "print('Exibe a subtração de 2+2-1=',soma - 1)"
      ],
      "metadata": {
        "colab": {
          "base_uri": "https://localhost:8080/"
        },
        "id": "o-Jqn-RoWYBH",
        "outputId": "f7621c44-a2f8-40d4-bac7-7593548fe2c6"
      },
      "execution_count": 8,
      "outputs": [
        {
          "output_type": "stream",
          "name": "stdout",
          "text": [
            "Exibi a soma de 2+2= 4\n",
            "Exibe a multiplicação de 2+2*5= 20\n",
            "Exibe a divisão de 2+2/2= 2.0\n",
            "Exibe a subtração de 2+2-1= 3\n"
          ]
        }
      ]
    },
    {
      "cell_type": "code",
      "source": [
        "nome = input('Qual o seu nome?')             # Recebe o nome do usuário\n",
        "qtde = input('Quantas maçãs você deseja?')   # Recebe a quantidade de maçãs\n",
        "\n",
        "print(nome, 'quer', qtde, 'maçãs')           # Exibe a quantidade de maçãs e o nome do usuário"
      ],
      "metadata": {
        "colab": {
          "base_uri": "https://localhost:8080/"
        },
        "id": "9opSHwh8BJJG",
        "outputId": "0017dda4-0a5f-43c6-dc0a-dec10050f5c9"
      },
      "execution_count": 9,
      "outputs": [
        {
          "output_type": "stream",
          "name": "stdout",
          "text": [
            "Qual o seu nome?pedro\n",
            "Quantas maçãs você deseja?4\n",
            "pedro quer 4 maçãs\n"
          ]
        }
      ]
    },
    {
      "cell_type": "code",
      "source": [
        "qtde = input('Quantas maçãs você deseja?')    # Recebe a quantidade de maçãs desejada\n",
        "preco_por_maca = 2                            # Preço por maçã (em reais)\n",
        "\n",
        "# Tentativa de calcular o total (isso causará um erro, pois qtde é uma string)\n",
        "total = qtde * preco_por_maca                # Calcula o total\n",
        "\n",
        "print('O valor total é:', total)             # Exibe o total"
      ],
      "metadata": {
        "colab": {
          "base_uri": "https://localhost:8080/"
        },
        "id": "CoY5srsjBJGV",
        "outputId": "d2eb35fe-9c8b-4e17-9fc3-db9ee56f3949"
      },
      "execution_count": 10,
      "outputs": [
        {
          "output_type": "stream",
          "name": "stdout",
          "text": [
            "Quantas maçãs você deseja?4\n",
            "O valor total é: 44\n"
          ]
        }
      ]
    },
    {
      "cell_type": "code",
      "source": [
        "qtde = input('Quantas maçãs você deseja?')     # Recebe a quantidade como string\n",
        "qtde = int(qtde)                               # Converte para inteiro\n",
        "\n",
        "preco_por_maca = 2                             # Preço de cada maçã\n",
        "total = qtde * preco_por_maca                  # Calcula o total a pagar\n",
        "\n",
        "print('O valor total para', qtde, 'maçãs é: R$', total)"
      ],
      "metadata": {
        "colab": {
          "base_uri": "https://localhost:8080/"
        },
        "id": "4gK17HDJBJDO",
        "outputId": "b3a9184b-67e8-4964-98f8-6fc35a3ad6cb"
      },
      "execution_count": 11,
      "outputs": [
        {
          "output_type": "stream",
          "name": "stdout",
          "text": [
            "Quantas maçãs você deseja?4\n",
            "O valor total para 4 maçãs é: R$ 8\n"
          ]
        }
      ]
    },
    {
      "cell_type": "code",
      "source": [
        "idade = int(input('Qual a sua idade?'))         # Recebe a idade do usuário\n",
        "altura = float(input('Qual a sua altura?'))     # Recebe a altura do usuário e converte para inteiro\n",
        "\n",
        "print('Sua idade é', idade, 'anos e sua altura é', altura, 'metros')   # Exibe a idade e a altura do usuário"
      ],
      "metadata": {
        "colab": {
          "base_uri": "https://localhost:8080/"
        },
        "id": "VoqOuJpABJAm",
        "outputId": "eed7195a-39ae-4a6d-ea0e-b195ed783712"
      },
      "execution_count": 12,
      "outputs": [
        {
          "output_type": "stream",
          "name": "stdout",
          "text": [
            "Qual a sua idade?20\n",
            "Qual a sua altura?1.80\n",
            "Sua idade é 20 anos e sua altura é 1.8 metros\n"
          ]
        }
      ]
    },
    {
      "cell_type": "code",
      "source": [
        "nome = 'Maria'          # cria uma variável chamada nome e armazena a string “Maria” nela.\n",
        "print(nome)             # Exibe a variável nome"
      ],
      "metadata": {
        "colab": {
          "base_uri": "https://localhost:8080/"
        },
        "id": "HTGsZ_2H7GpE",
        "outputId": "02c9589b-9645-414f-f09d-d35ffdf0eb57"
      },
      "execution_count": 30,
      "outputs": [
        {
          "output_type": "stream",
          "name": "stdout",
          "text": [
            "Maria\n"
          ]
        }
      ]
    },
    {
      "cell_type": "code",
      "source": [
        "# Este é um comentário em Python\n",
        "print(\"Comentário acima não será executado\")\n",
        "\n",
        "'''\n",
        "Comentário, não será executado\n",
        "'''\n",
        "\n",
        "print(\"Comentário acima também não será executado\")"
      ],
      "metadata": {
        "colab": {
          "base_uri": "https://localhost:8080/"
        },
        "id": "VAqkhsdS7Gk_",
        "outputId": "5b21b61e-9a7d-43c9-dde1-f2b05a65ae71"
      },
      "execution_count": 31,
      "outputs": [
        {
          "output_type": "stream",
          "name": "stdout",
          "text": [
            "Comentário acima não será executado\n",
            "Comentário acima também não será executado\n"
          ]
        }
      ]
    },
    {
      "cell_type": "code",
      "source": [
        "texto = ('Python é uma linguagem de programação. \\nFácil de aprender e muito eficiente.')\n",
        "print(texto)"
      ],
      "metadata": {
        "colab": {
          "base_uri": "https://localhost:8080/"
        },
        "id": "dj0dkR8m7Gh8",
        "outputId": "65b1f06d-c10e-4740-bc75-a0c495e1a205"
      },
      "execution_count": 32,
      "outputs": [
        {
          "output_type": "stream",
          "name": "stdout",
          "text": [
            "Python é uma linguagem de programação. \n",
            "Fácil de aprender e muito eficiente.\n"
          ]
        }
      ]
    },
    {
      "cell_type": "code",
      "source": [
        "nome = 'João'\n",
        "print('Olá ' + nome)"
      ],
      "metadata": {
        "colab": {
          "base_uri": "https://localhost:8080/"
        },
        "id": "Fd-A5Vv87Ge0",
        "outputId": "918861af-379a-4d19-8cd0-8d07bca11bb5"
      },
      "execution_count": 33,
      "outputs": [
        {
          "output_type": "stream",
          "name": "stdout",
          "text": [
            "Olá João\n"
          ]
        }
      ]
    },
    {
      "cell_type": "code",
      "source": [
        "nome = 'João'\n",
        "print('Olá', nome)"
      ],
      "metadata": {
        "colab": {
          "base_uri": "https://localhost:8080/"
        },
        "id": "VqF96faZ7Gbr",
        "outputId": "49371b07-5fd6-4cd1-a7d5-3328ff9789f1"
      },
      "execution_count": 34,
      "outputs": [
        {
          "output_type": "stream",
          "name": "stdout",
          "text": [
            "Olá João\n"
          ]
        }
      ]
    },
    {
      "cell_type": "code",
      "source": [
        "texto = ('Python é uma linguagem de programação fácil de aprender'\n",
        "         'e muito eficiente.')\n",
        "print(texto)"
      ],
      "metadata": {
        "colab": {
          "base_uri": "https://localhost:8080/"
        },
        "id": "VrUDapBC7R1c",
        "outputId": "2b076540-3f5a-4b2d-bcd4-75e74b86ca8a"
      },
      "execution_count": 35,
      "outputs": [
        {
          "output_type": "stream",
          "name": "stdout",
          "text": [
            "Python é uma linguagem de programação fácil de aprendere muito eficiente.\n"
          ]
        }
      ]
    },
    {
      "cell_type": "code",
      "source": [
        "# Quebra de linha\n",
        "texto = ('Python é uma linguagem de programação. \\nFácil de aprender e muito eficiente.')\n",
        "print(texto)"
      ],
      "metadata": {
        "colab": {
          "base_uri": "https://localhost:8080/"
        },
        "id": "JqVpFWog7RyT",
        "outputId": "bce07bd8-c1f4-4ac8-d96b-bad6edc32859"
      },
      "execution_count": 36,
      "outputs": [
        {
          "output_type": "stream",
          "name": "stdout",
          "text": [
            "Python é uma linguagem de programação. \n",
            "Fácil de aprender e muito eficiente.\n"
          ]
        }
      ]
    },
    {
      "cell_type": "code",
      "source": [
        "primeiro_nome = input(\"Digite seu primeiro nome: \")\n",
        "sobrenome = input(\"Digite seu sobrenome: \")\n",
        "nome_completo = primeiro_nome + \" \" + sobrenome\n",
        "\n",
        "print(f\"Seu nome completo é: {nome_completo}\")"
      ],
      "metadata": {
        "colab": {
          "base_uri": "https://localhost:8080/"
        },
        "id": "8sEiZCpe7Rvc",
        "outputId": "c741044b-e252-4ca7-af25-83e1b56d2849"
      },
      "execution_count": 37,
      "outputs": [
        {
          "output_type": "stream",
          "name": "stdout",
          "text": [
            "Digite seu primeiro nome: pedro\n",
            "Digite seu sobrenome: santos\n",
            "Seu nome completo é: pedro santos\n"
          ]
        }
      ]
    },
    {
      "cell_type": "code",
      "source": [
        "soma = a + b               # Adição\n",
        "print(soma)                # Exibindo o valor da variável soma"
      ],
      "metadata": {
        "colab": {
          "base_uri": "https://localhost:8080/"
        },
        "id": "rAsmRb0S53iL",
        "outputId": "b00dfac3-d4ec-4e3f-d89d-7cba44c8dd98"
      },
      "execution_count": 14,
      "outputs": [
        {
          "output_type": "stream",
          "name": "stdout",
          "text": [
            "13\n"
          ]
        }
      ]
    },
    {
      "cell_type": "code",
      "source": [
        "subtracao = a - b          # Subtração\n",
        "print(subtracao)           # Exibindo o valor da variável subtracao"
      ],
      "metadata": {
        "colab": {
          "base_uri": "https://localhost:8080/"
        },
        "id": "8tE52hGA53fk",
        "outputId": "d6323150-de3d-40ea-d137-57b01639be3b"
      },
      "execution_count": 15,
      "outputs": [
        {
          "output_type": "stream",
          "name": "stdout",
          "text": [
            "7\n"
          ]
        }
      ]
    },
    {
      "cell_type": "code",
      "source": [
        "multiplicacao = a * b      # Multiplicação\n",
        "print(multiplicacao)       # Exibindo o valor da variável multiplicacao"
      ],
      "metadata": {
        "colab": {
          "base_uri": "https://localhost:8080/"
        },
        "id": "FlRQgdkb53c0",
        "outputId": "50ddde06-da9d-496f-a511-aff74c346970"
      },
      "execution_count": 16,
      "outputs": [
        {
          "output_type": "stream",
          "name": "stdout",
          "text": [
            "30\n"
          ]
        }
      ]
    },
    {
      "cell_type": "code",
      "source": [
        "divisao = a / b            # Divisão\n",
        "print(divisao)             # Exibindo o valor da variável divisao"
      ],
      "metadata": {
        "colab": {
          "base_uri": "https://localhost:8080/"
        },
        "id": "6ZzY_Lx-BI9u",
        "outputId": "18c6381c-9d4e-4560-929b-bab60e220ab0"
      },
      "execution_count": 17,
      "outputs": [
        {
          "output_type": "stream",
          "name": "stdout",
          "text": [
            "3.3333333333333335\n"
          ]
        }
      ]
    },
    {
      "cell_type": "code",
      "source": [
        "divisao_inteira = a // b   # Divisão inteira\n",
        "print(divisao_inteira)     # Exibindo o valor da variável divisao_inteira"
      ],
      "metadata": {
        "colab": {
          "base_uri": "https://localhost:8080/"
        },
        "id": "pUg_PsxsBI63",
        "outputId": "e385e145-30d3-4db8-8c8c-0fc04f144a5d"
      },
      "execution_count": 18,
      "outputs": [
        {
          "output_type": "stream",
          "name": "stdout",
          "text": [
            "3\n"
          ]
        }
      ]
    },
    {
      "cell_type": "code",
      "source": [
        "resto = a % b         # Módulo (resto da divisão)\n",
        "print(resto)          # Exibindo o valor da variável resto"
      ],
      "metadata": {
        "colab": {
          "base_uri": "https://localhost:8080/"
        },
        "id": "fI1njuayBI33",
        "outputId": "36e3cd6c-fb73-433b-ce2c-3ee55bbcbf28"
      },
      "execution_count": 19,
      "outputs": [
        {
          "output_type": "stream",
          "name": "stdout",
          "text": [
            "1\n"
          ]
        }
      ]
    },
    {
      "cell_type": "code",
      "source": [
        "potencia = a ** b          # Potenciação\n",
        "print(potencia)            # Exibindo o valor da variável potencia"
      ],
      "metadata": {
        "colab": {
          "base_uri": "https://localhost:8080/"
        },
        "id": "NQDlyp226LEv",
        "outputId": "98bb7fe2-04ed-4dea-c635-53e326d032ce"
      },
      "execution_count": 20,
      "outputs": [
        {
          "output_type": "stream",
          "name": "stdout",
          "text": [
            "1000\n"
          ]
        }
      ]
    },
    {
      "cell_type": "code",
      "source": [
        "tax = 1000 / 100    # Resultado da divisão é 10\n",
        "price = 100         # Variável price recebe o valor 100\n",
        "print(tax * price)  # Exibe o valor da variável tax"
      ],
      "metadata": {
        "colab": {
          "base_uri": "https://localhost:8080/"
        },
        "id": "ibRuXyaI6LBb",
        "outputId": "2c26ef45-a646-47f2-ce86-9d71a168f41c"
      },
      "execution_count": 21,
      "outputs": [
        {
          "output_type": "stream",
          "name": "stdout",
          "text": [
            "1000.0\n"
          ]
        }
      ]
    },
    {
      "cell_type": "code",
      "source": [
        "num1 = float(input(\"Digite o primeiro número: \"))\n",
        "num2 = float(input(\"Digite o segundo número: \"))"
      ],
      "metadata": {
        "colab": {
          "base_uri": "https://localhost:8080/"
        },
        "id": "fsaz-NVZ6K9t",
        "outputId": "0e3d1801-52eb-4336-8af9-4df47674d82f"
      },
      "execution_count": 22,
      "outputs": [
        {
          "name": "stdout",
          "output_type": "stream",
          "text": [
            "Digite o primeiro número: 4\n",
            "Digite o segundo número: 6\n"
          ]
        }
      ]
    },
    {
      "cell_type": "code",
      "source": [
        "soma = num1 + num2\n",
        "subtracao = num1 - num2\n",
        "multiplicacao = num1 * num2\n",
        "divisao = num1 / num2"
      ],
      "metadata": {
        "id": "BWtWfX6e6K6E"
      },
      "execution_count": 23,
      "outputs": []
    },
    {
      "cell_type": "code",
      "source": [
        "print(\"Soma:\", num1, \"+\", num2, \"=\", soma)\n",
        "print(\"Subtração:\", num1, \"-\", num2, \"=\", subtracao)\n",
        "print(\"Multiplicação:\", num1, \"*\", num2, \"=\", multiplicacao)\n",
        "print(\"Divisão:\", num1, \"/\", num2, \"=\", divisao)"
      ],
      "metadata": {
        "colab": {
          "base_uri": "https://localhost:8080/"
        },
        "id": "SIX34ziq6Yfk",
        "outputId": "3419902b-1a60-4815-9d63-c003c5a89e57"
      },
      "execution_count": 24,
      "outputs": [
        {
          "output_type": "stream",
          "name": "stdout",
          "text": [
            "Soma: 4.0 + 6.0 = 10.0\n",
            "Subtração: 4.0 - 6.0 = -2.0\n",
            "Multiplicação: 4.0 * 6.0 = 24.0\n",
            "Divisão: 4.0 / 6.0 = 0.6666666666666666\n"
          ]
        }
      ]
    },
    {
      "cell_type": "code",
      "source": [
        "soma1 = 2 + 3 * 4 - 1 / 2\n",
        "print(soma1)"
      ],
      "metadata": {
        "colab": {
          "base_uri": "https://localhost:8080/"
        },
        "id": "a5JHFb1i6YZb",
        "outputId": "41708346-0c3a-4f87-9f6b-6a68c7e9c6ba"
      },
      "execution_count": 25,
      "outputs": [
        {
          "output_type": "stream",
          "name": "stdout",
          "text": [
            "13.5\n"
          ]
        }
      ]
    },
    {
      "cell_type": "code",
      "source": [
        "soma2 = (2 + 3) * 4 - 1 / 2\n",
        "print(soma2)"
      ],
      "metadata": {
        "colab": {
          "base_uri": "https://localhost:8080/"
        },
        "id": "KjZttb4U6cQs",
        "outputId": "cbf23cfe-8921-4b16-ef57-eb616473ebcf"
      },
      "execution_count": 26,
      "outputs": [
        {
          "output_type": "stream",
          "name": "stdout",
          "text": [
            "19.5\n"
          ]
        }
      ]
    },
    {
      "cell_type": "code",
      "source": [
        "soma3 = 2 + (3 * 4) - 1 / 2\n",
        "print(soma3)"
      ],
      "metadata": {
        "colab": {
          "base_uri": "https://localhost:8080/"
        },
        "id": "L1DFqUiB6cN1",
        "outputId": "1df1e530-72e3-4b1f-acfb-f11de5b97bcc"
      },
      "execution_count": 27,
      "outputs": [
        {
          "output_type": "stream",
          "name": "stdout",
          "text": [
            "13.5\n"
          ]
        }
      ]
    },
    {
      "cell_type": "code",
      "source": [
        "num1 = float(input(\"Digite o primeiro número: \"))\n",
        "num2 = float(input(\"Digite o segundo número: \"))\n",
        "\n",
        "print(f\"Soma: {num1 + num2}\")\n",
        "print(f\"Subtração: {num1 - num2}\")\n",
        "print(f\"Multiplicação: {num1 * num2}\")\n",
        "print(f\"Divisão: {num1 / num2}\")"
      ],
      "metadata": {
        "colab": {
          "base_uri": "https://localhost:8080/"
        },
        "id": "Gdroa7hA6cKb",
        "outputId": "4adb9b6d-bfea-4d95-83d5-c34453545fec"
      },
      "execution_count": 28,
      "outputs": [
        {
          "output_type": "stream",
          "name": "stdout",
          "text": [
            "Digite o primeiro número: 4\n",
            "Digite o segundo número: 6\n",
            "Soma: 10.0\n",
            "Subtração: -2.0\n",
            "Multiplicação: 24.0\n",
            "Divisão: 0.6666666666666666\n"
          ]
        }
      ]
    },
    {
      "cell_type": "code",
      "source": [
        "numero = float(input(\"Digite um número: \"))\n",
        "\n",
        "print('Quadrado:', numero ** 2)\n",
        "print('Raiz quadrada:', numero ** (1/2))"
      ],
      "metadata": {
        "colab": {
          "base_uri": "https://localhost:8080/"
        },
        "id": "FMSEihlx6mHk",
        "outputId": "53a1d44a-ef1b-4a30-c2e8-e6f18382acbc"
      },
      "execution_count": 29,
      "outputs": [
        {
          "output_type": "stream",
          "name": "stdout",
          "text": [
            "Digite um número: 5\n",
            "Quadrado: 25.0\n",
            "Raiz quadrada: 2.23606797749979\n"
          ]
        }
      ]
    }
  ]
}