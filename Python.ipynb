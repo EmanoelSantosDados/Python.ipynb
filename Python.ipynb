{
  "nbformat": 4,
  "nbformat_minor": 0,
  "metadata": {
    "colab": {
      "provenance": [],
      "authorship_tag": "ABX9TyNKWQ6hnqGfIrU1qZO+WSJS",
      "include_colab_link": true
    },
    "kernelspec": {
      "name": "python3",
      "display_name": "Python 3"
    },
    "language_info": {
      "name": "python"
    }
  },
  "cells": [
    {
      "cell_type": "markdown",
      "metadata": {
        "id": "view-in-github",
        "colab_type": "text"
      },
      "source": [
        "<a href=\"https://colab.research.google.com/github/EmanoelSantosDados/Python.ipynb/blob/main/Python.ipynb\" target=\"_parent\"><img src=\"https://colab.research.google.com/assets/colab-badge.svg\" alt=\"Open In Colab\"/></a>"
      ]
    },
    {
      "cell_type": "code",
      "source": [
        "mensagem = 'Olá Mundo!'     # Variável mensagem vai receber o valor 'Olá Mundo!'\n",
        "print(mensagem)             # Exibe a variável mensagem"
      ],
      "metadata": {
        "colab": {
          "base_uri": "https://localhost:8080/"
        },
        "id": "7DczMGlmWIPv",
        "outputId": "f948a2bc-9efa-475e-a582-4bd54461c144"
      },
      "execution_count": 1,
      "outputs": [
        {
          "output_type": "stream",
          "name": "stdout",
          "text": [
            "Olá Mundo!\n"
          ]
        }
      ]
    },
    {
      "cell_type": "code",
      "source": [
        "pergunta = input('Qual é o seu nome?')                                         # Recebe o nome do usuário\n",
        "print('É um grande prazer te conhecer', pergunta, '. Seja bem-vinda(o)!')      # Exibe a mensagem"
      ],
      "metadata": {
        "colab": {
          "base_uri": "https://localhost:8080/"
        },
        "id": "Pvp9LbiKWL-H",
        "outputId": "243773fd-87e9-4edc-9bf6-31e044cd214d"
      },
      "execution_count": 2,
      "outputs": [
        {
          "output_type": "stream",
          "name": "stdout",
          "text": [
            "Qual é o seu nome?ana\n",
            "É um grande prazer te conhecer ana . Seja bem-vinda(o)!\n"
          ]
        }
      ]
    },
    {
      "cell_type": "code",
      "source": [
        "soma = 2 + 2      # Função soma resultado 4"
      ],
      "metadata": {
        "id": "vxyma01hWnfw"
      },
      "execution_count": 3,
      "outputs": []
    },
    {
      "cell_type": "code",
      "source": [
        "print(soma)"
      ],
      "metadata": {
        "colab": {
          "base_uri": "https://localhost:8080/"
        },
        "id": "3jnm1fDUWPeG",
        "outputId": "c6f60ac1-881c-4d49-de0c-be9ee313c9f1"
      },
      "execution_count": 4,
      "outputs": [
        {
          "output_type": "stream",
          "name": "stdout",
          "text": [
            "4\n"
          ]
        }
      ]
    },
    {
      "cell_type": "code",
      "source": [
        "print(soma * 5)"
      ],
      "metadata": {
        "colab": {
          "base_uri": "https://localhost:8080/"
        },
        "id": "BJPvMAC8WRie",
        "outputId": "aaa77c5f-809d-4c56-f355-c2e07f8949f9"
      },
      "execution_count": 5,
      "outputs": [
        {
          "output_type": "stream",
          "name": "stdout",
          "text": [
            "20\n"
          ]
        }
      ]
    },
    {
      "cell_type": "code",
      "source": [
        "print(soma / 2)"
      ],
      "metadata": {
        "colab": {
          "base_uri": "https://localhost:8080/"
        },
        "id": "X0d-9dQVWTd-",
        "outputId": "f496c1bf-5209-4c31-e9c1-a626c33c38bb"
      },
      "execution_count": 6,
      "outputs": [
        {
          "output_type": "stream",
          "name": "stdout",
          "text": [
            "2.0\n"
          ]
        }
      ]
    },
    {
      "cell_type": "code",
      "source": [
        "print(soma - 1)"
      ],
      "metadata": {
        "colab": {
          "base_uri": "https://localhost:8080/"
        },
        "id": "Yd5P7wrpWVv1",
        "outputId": "239b2c02-a061-4313-ef51-f889e0f22ace"
      },
      "execution_count": 7,
      "outputs": [
        {
          "output_type": "stream",
          "name": "stdout",
          "text": [
            "3\n"
          ]
        }
      ]
    },
    {
      "cell_type": "code",
      "source": [
        "soma = 2 + 2\n",
        "\n",
        "print('Exibi a soma de 2+2=',soma)\n",
        "print('Exibe a multiplicação de 2+2*5=',soma * 5)\n",
        "print('Exibe a divisão de 2+2/2=',soma / 2)\n",
        "print('Exibe a subtração de 2+2-1=',soma - 1)"
      ],
      "metadata": {
        "colab": {
          "base_uri": "https://localhost:8080/"
        },
        "id": "o-Jqn-RoWYBH",
        "outputId": "67b4bcd9-ea41-4723-852d-ad6fc8c2dd5d"
      },
      "execution_count": 8,
      "outputs": [
        {
          "output_type": "stream",
          "name": "stdout",
          "text": [
            "Exibi a soma de 2+2= 4\n",
            "Exibe a multiplicação de 2+2*5= 20\n",
            "Exibe a divisão de 2+2/2= 2.0\n",
            "Exibe a subtração de 2+2-1= 3\n"
          ]
        }
      ]
    },
    {
      "cell_type": "code",
      "source": [
        "nome = input('Qual o seu nome?')             # Recebe o nome do usuário\n",
        "qtde = input('Quantas maçãs você deseja?')   # Recebe a quantidade de maçãs\n",
        "\n",
        "print(nome, 'quer', qtde, 'maçãs')           # Exibe a quantidade de maçãs e o nome do usuário"
      ],
      "metadata": {
        "colab": {
          "base_uri": "https://localhost:8080/"
        },
        "id": "9opSHwh8BJJG",
        "outputId": "03065ff0-a9c8-4c9f-ef30-7e7e2c3dbf02"
      },
      "execution_count": 9,
      "outputs": [
        {
          "output_type": "stream",
          "name": "stdout",
          "text": [
            "Qual o seu nome?pedro\n",
            "Quantas maçãs você deseja?4\n",
            "pedro quer 4 maçãs\n"
          ]
        }
      ]
    },
    {
      "cell_type": "code",
      "source": [
        "qtde = input('Quantas maçãs você deseja?')    # Recebe a quantidade de maçãs desejada\n",
        "preco_por_maca = 2                            # Preço por maçã (em reais)\n",
        "\n",
        "# Tentativa de calcular o total (isso causará um erro, pois qtde é uma string)\n",
        "total = qtde * preco_por_maca                # Calcula o total\n",
        "\n",
        "print('O valor total é:', total)             # Exibe o total"
      ],
      "metadata": {
        "colab": {
          "base_uri": "https://localhost:8080/"
        },
        "id": "CoY5srsjBJGV",
        "outputId": "60c32b76-ddfe-4398-a7ea-26c1d09a21a9"
      },
      "execution_count": 10,
      "outputs": [
        {
          "output_type": "stream",
          "name": "stdout",
          "text": [
            "Quantas maçãs você deseja?4\n",
            "O valor total é: 44\n"
          ]
        }
      ]
    },
    {
      "cell_type": "code",
      "source": [
        "qtde = input('Quantas maçãs você deseja?')     # Recebe a quantidade como string\n",
        "qtde = int(qtde)                               # Converte para inteiro\n",
        "\n",
        "preco_por_maca = 2                             # Preço de cada maçã\n",
        "total = qtde * preco_por_maca                  # Calcula o total a pagar\n",
        "\n",
        "print('O valor total para', qtde, 'maçãs é: R$', total)"
      ],
      "metadata": {
        "colab": {
          "base_uri": "https://localhost:8080/"
        },
        "id": "4gK17HDJBJDO",
        "outputId": "56ddb3ca-a2fb-4e62-d754-3c9077a387f3"
      },
      "execution_count": 11,
      "outputs": [
        {
          "output_type": "stream",
          "name": "stdout",
          "text": [
            "Quantas maçãs você deseja?4\n",
            "O valor total para 4 maçãs é: R$ 8\n"
          ]
        }
      ]
    },
    {
      "cell_type": "code",
      "source": [
        "idade = int(input('Qual a sua idade?'))         # Recebe a idade do usuário\n",
        "altura = float(input('Qual a sua altura?'))     # Recebe a altura do usuário e converte para inteiro\n",
        "\n",
        "print('Sua idade é', idade, 'anos e sua altura é', altura, 'metros')   # Exibe a idade e a altura do usuário"
      ],
      "metadata": {
        "colab": {
          "base_uri": "https://localhost:8080/"
        },
        "id": "VoqOuJpABJAm",
        "outputId": "23c24770-a824-4e7d-a020-291c2aae2745"
      },
      "execution_count": 12,
      "outputs": [
        {
          "output_type": "stream",
          "name": "stdout",
          "text": [
            "Qual a sua idade?40\n",
            "Qual a sua altura?1.7\n",
            "Sua idade é 40 anos e sua altura é 1.7 metros\n"
          ]
        }
      ]
    },
    {
      "cell_type": "code",
      "source": [],
      "metadata": {
        "id": "6ZzY_Lx-BI9u"
      },
      "execution_count": 12,
      "outputs": []
    },
    {
      "cell_type": "code",
      "source": [],
      "metadata": {
        "id": "pUg_PsxsBI63"
      },
      "execution_count": 12,
      "outputs": []
    },
    {
      "cell_type": "code",
      "source": [],
      "metadata": {
        "id": "fI1njuayBI33"
      },
      "execution_count": 12,
      "outputs": []
    }
  ]
}