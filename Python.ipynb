{
  "nbformat": 4,
  "nbformat_minor": 0,
  "metadata": {
    "colab": {
      "provenance": [],
      "authorship_tag": "ABX9TyPShC/sgxyJv56MD4n2eWoq",
      "include_colab_link": true
    },
    "kernelspec": {
      "name": "python3",
      "display_name": "Python 3"
    },
    "language_info": {
      "name": "python"
    }
  },
  "cells": [
    {
      "cell_type": "markdown",
      "metadata": {
        "id": "view-in-github",
        "colab_type": "text"
      },
      "source": [
        "<a href=\"https://colab.research.google.com/github/EmanoelSantosDados/Python.ipynb/blob/main/Python.ipynb\" target=\"_parent\"><img src=\"https://colab.research.google.com/assets/colab-badge.svg\" alt=\"Open In Colab\"/></a>"
      ]
    },
    {
      "cell_type": "code",
      "source": [
        "mensagem = 'Olá Mundo!'     # Variável mensagem vai receber o valor 'Olá Mundo!'\n",
        "print(mensagem)             # Exibe a variável mensagem"
      ],
      "metadata": {
        "colab": {
          "base_uri": "https://localhost:8080/"
        },
        "id": "7DczMGlmWIPv",
        "outputId": "89bfe6ee-6b23-4583-c52a-9cebb14d6dad"
      },
      "execution_count": 1,
      "outputs": [
        {
          "output_type": "stream",
          "name": "stdout",
          "text": [
            "Olá Mundo!\n"
          ]
        }
      ]
    },
    {
      "cell_type": "code",
      "source": [
        "pergunta = input('Qual é o seu nome?')                                         # Recebe o nome do usuário\n",
        "print('É um grande prazer te conhecer', pergunta, '. Seja bem-vinda(o)!')      # Exibe a mensagem"
      ],
      "metadata": {
        "colab": {
          "base_uri": "https://localhost:8080/"
        },
        "id": "Pvp9LbiKWL-H",
        "outputId": "d3444665-893f-4ab2-e3f0-666479096ce6"
      },
      "execution_count": 2,
      "outputs": [
        {
          "output_type": "stream",
          "name": "stdout",
          "text": [
            "Qual é o seu nome?ana\n",
            "É um grande prazer te conhecer ana . Seja bem-vinda(o)!\n"
          ]
        }
      ]
    },
    {
      "cell_type": "code",
      "source": [
        "soma = 2 + 2"
      ],
      "metadata": {
        "id": "vxyma01hWnfw"
      },
      "execution_count": 4,
      "outputs": []
    },
    {
      "cell_type": "code",
      "source": [
        "print(soma)"
      ],
      "metadata": {
        "colab": {
          "base_uri": "https://localhost:8080/"
        },
        "id": "3jnm1fDUWPeG",
        "outputId": "17cbc954-50f9-4d13-8b04-3ec3444a9949"
      },
      "execution_count": 5,
      "outputs": [
        {
          "output_type": "stream",
          "name": "stdout",
          "text": [
            "4\n"
          ]
        }
      ]
    },
    {
      "cell_type": "code",
      "source": [
        "print(soma * 5)"
      ],
      "metadata": {
        "colab": {
          "base_uri": "https://localhost:8080/"
        },
        "id": "BJPvMAC8WRie",
        "outputId": "412d1301-c5d5-48bf-bba6-4bb04598c93f"
      },
      "execution_count": 6,
      "outputs": [
        {
          "output_type": "stream",
          "name": "stdout",
          "text": [
            "20\n"
          ]
        }
      ]
    },
    {
      "cell_type": "code",
      "source": [
        "print(soma / 2)"
      ],
      "metadata": {
        "colab": {
          "base_uri": "https://localhost:8080/"
        },
        "id": "X0d-9dQVWTd-",
        "outputId": "2caa47bf-fe64-47e7-921a-4d0c307f0082"
      },
      "execution_count": 7,
      "outputs": [
        {
          "output_type": "stream",
          "name": "stdout",
          "text": [
            "2.0\n"
          ]
        }
      ]
    },
    {
      "cell_type": "code",
      "source": [
        "print(soma - 1)"
      ],
      "metadata": {
        "colab": {
          "base_uri": "https://localhost:8080/"
        },
        "id": "Yd5P7wrpWVv1",
        "outputId": "897e2534-23e1-42e9-a491-a9c139407212"
      },
      "execution_count": 8,
      "outputs": [
        {
          "output_type": "stream",
          "name": "stdout",
          "text": [
            "3\n"
          ]
        }
      ]
    },
    {
      "cell_type": "code",
      "source": [
        "soma = 2 + 2\n",
        "\n",
        "print('Exibi a soma de 2+2=',soma)\n",
        "print('Exibe a multiplicação de 2+2*5=',soma * 5)\n",
        "print('Exibe a divisão de 2+2/2=',soma / 2)\n",
        "print('Exibe a subtração de 2+2-1=',soma - 1)"
      ],
      "metadata": {
        "colab": {
          "base_uri": "https://localhost:8080/"
        },
        "id": "o-Jqn-RoWYBH",
        "outputId": "b6b3c6da-8425-44f8-d3b0-cb752086711d"
      },
      "execution_count": 9,
      "outputs": [
        {
          "output_type": "stream",
          "name": "stdout",
          "text": [
            "Exibi a soma de 2+2= 4\n",
            "Exibe a multiplicação de 2+2*5= 20\n",
            "Exibe a divisão de 2+2/2= 2.0\n",
            "Exibe a subtração de 2+2-1= 3\n"
          ]
        }
      ]
    }
  ]
}