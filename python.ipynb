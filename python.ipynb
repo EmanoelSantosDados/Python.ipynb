{
  "nbformat": 4,
  "nbformat_minor": 0,
  "metadata": {
    "colab": {
      "provenance": [],
      "toc_visible": true,
      "authorship_tag": "ABX9TyMmwsc4eKiXS+TKXQpwM3Bn",
      "include_colab_link": true
    },
    "kernelspec": {
      "name": "python3",
      "display_name": "Python 3"
    },
    "language_info": {
      "name": "python"
    }
  },
  "cells": [
    {
      "cell_type": "markdown",
      "metadata": {
        "id": "view-in-github",
        "colab_type": "text"
      },
      "source": [
        "<a href=\"https://colab.research.google.com/github/EmanoelSantosDados/Python.ipynb/blob/main/python.ipynb\" target=\"_parent\"><img src=\"https://colab.research.google.com/assets/colab-badge.svg\" alt=\"Open In Colab\"/></a>"
      ]
    },
    {
      "cell_type": "markdown",
      "source": [
        "# **Sintaxe Básica do Python**"
      ],
      "metadata": {
        "id": "7AjPxvM8nNLC"
      }
    },
    {
      "cell_type": "code",
      "source": [
        "mensagem = 'Olá Mundo!'     # Variável mensagem vai receber o valor 'Olá Mundo!'\n",
        "print(mensagem)             # Exibe a variável mensagem"
      ],
      "metadata": {
        "colab": {
          "base_uri": "https://localhost:8080/"
        },
        "id": "7DczMGlmWIPv",
        "outputId": "89bfe6ee-6b23-4583-c52a-9cebb14d6dad"
      },
      "execution_count": null,
      "outputs": [
        {
          "output_type": "stream",
          "name": "stdout",
          "text": [
            "Olá Mundo!\n"
          ]
        }
      ]
    },
    {
      "cell_type": "code",
      "source": [
        "pergunta = input('Qual é o seu nome?')                                         # Recebe o nome do usuário\n",
        "print('É um grande prazer te conhecer', pergunta, '. Seja bem-vinda(o)!')      # Exibe a mensagem"
      ],
      "metadata": {
        "colab": {
          "base_uri": "https://localhost:8080/"
        },
        "id": "Pvp9LbiKWL-H",
        "outputId": "d3444665-893f-4ab2-e3f0-666479096ce6"
      },
      "execution_count": null,
      "outputs": [
        {
          "output_type": "stream",
          "name": "stdout",
          "text": [
            "Qual é o seu nome?ana\n",
            "É um grande prazer te conhecer ana . Seja bem-vinda(o)!\n"
          ]
        }
      ]
    },
    {
      "cell_type": "code",
      "source": [
        "soma = 2 + 2"
      ],
      "metadata": {
        "id": "vxyma01hWnfw"
      },
      "execution_count": null,
      "outputs": []
    },
    {
      "cell_type": "code",
      "source": [
        "print(soma)"
      ],
      "metadata": {
        "colab": {
          "base_uri": "https://localhost:8080/"
        },
        "id": "3jnm1fDUWPeG",
        "outputId": "17cbc954-50f9-4d13-8b04-3ec3444a9949"
      },
      "execution_count": null,
      "outputs": [
        {
          "output_type": "stream",
          "name": "stdout",
          "text": [
            "4\n"
          ]
        }
      ]
    },
    {
      "cell_type": "code",
      "source": [
        "print(soma * 5)"
      ],
      "metadata": {
        "colab": {
          "base_uri": "https://localhost:8080/"
        },
        "id": "BJPvMAC8WRie",
        "outputId": "412d1301-c5d5-48bf-bba6-4bb04598c93f"
      },
      "execution_count": null,
      "outputs": [
        {
          "output_type": "stream",
          "name": "stdout",
          "text": [
            "20\n"
          ]
        }
      ]
    },
    {
      "cell_type": "code",
      "source": [
        "print(soma / 2)"
      ],
      "metadata": {
        "colab": {
          "base_uri": "https://localhost:8080/"
        },
        "id": "X0d-9dQVWTd-",
        "outputId": "2caa47bf-fe64-47e7-921a-4d0c307f0082"
      },
      "execution_count": null,
      "outputs": [
        {
          "output_type": "stream",
          "name": "stdout",
          "text": [
            "2.0\n"
          ]
        }
      ]
    },
    {
      "cell_type": "code",
      "source": [
        "print(soma - 1)"
      ],
      "metadata": {
        "colab": {
          "base_uri": "https://localhost:8080/"
        },
        "id": "Yd5P7wrpWVv1",
        "outputId": "897e2534-23e1-42e9-a491-a9c139407212"
      },
      "execution_count": null,
      "outputs": [
        {
          "output_type": "stream",
          "name": "stdout",
          "text": [
            "3\n"
          ]
        }
      ]
    },
    {
      "cell_type": "code",
      "source": [
        "soma = 2 + 2\n",
        "\n",
        "print('Exibi a soma de 2+2=',soma)\n",
        "print('Exibe a multiplicação de 2+2*5=',soma * 5)\n",
        "print('Exibe a divisão de 2+2/2=',soma / 2)\n",
        "print('Exibe a subtração de 2+2-1=',soma - 1)"
      ],
      "metadata": {
        "colab": {
          "base_uri": "https://localhost:8080/"
        },
        "id": "o-Jqn-RoWYBH",
        "outputId": "b6b3c6da-8425-44f8-d3b0-cb752086711d"
      },
      "execution_count": null,
      "outputs": [
        {
          "output_type": "stream",
          "name": "stdout",
          "text": [
            "Exibi a soma de 2+2= 4\n",
            "Exibe a multiplicação de 2+2*5= 20\n",
            "Exibe a divisão de 2+2/2= 2.0\n",
            "Exibe a subtração de 2+2-1= 3\n"
          ]
        }
      ]
    },
    {
      "cell_type": "code",
      "source": [
        "nome = input('Qual o seu nome?')             # Recebe o nome do usuário\n",
        "qtde = input('Quantas maçãs você deseja?')   # Recebe a quantidade de maçãs\n",
        "\n",
        "print(nome, 'quer', qtde, 'maçãs')           # Exibe a quantidade de maçãs e o nome do usuário"
      ],
      "metadata": {
        "id": "9uWehJCckNt3"
      },
      "execution_count": null,
      "outputs": []
    },
    {
      "cell_type": "code",
      "source": [
        "qtde = input('Quantas maçãs você deseja?')    # Recebe a quantidade de maçãs desejada\n",
        "preco_por_maca = 2                            # Preço por maçã (em reais)\n",
        "\n",
        "# Tentativa de calcular o total (isso causará um erro, pois qtde é uma string)\n",
        "total = qtde * preco_por_maca                # Calcula o total\n",
        "\n",
        "print('O valor total é:', total)             # Exibe o total"
      ],
      "metadata": {
        "id": "ziIzKQRykNqZ"
      },
      "execution_count": null,
      "outputs": []
    },
    {
      "cell_type": "code",
      "source": [
        "qtde = input('Quantas maçãs você deseja?')     # Recebe a quantidade como string\n",
        "qtde = int(qtde)                               # Converte para inteiro\n",
        "\n",
        "preco_por_maca = 2                             # Preço de cada maçã\n",
        "total = qtde * preco_por_maca                  # Calcula o total a pagar\n",
        "\n",
        "print('O valor total para', qtde, 'maçãs é: R$', total)"
      ],
      "metadata": {
        "id": "FuybSjsekNnJ"
      },
      "execution_count": null,
      "outputs": []
    },
    {
      "cell_type": "code",
      "source": [
        "idade = int(input('Qual a sua idade?'))         # Recebe a idade do usuário\n",
        "altura = float(input('Qual a sua altura?'))     # Recebe a altura do usuário e converte para inteiro\n",
        "\n",
        "print('Sua idade é', idade, 'anos e sua altura é', altura, 'metros')   # Exibe a idade e a altura do usuário"
      ],
      "metadata": {
        "id": "k43DNknjkNj_"
      },
      "execution_count": null,
      "outputs": []
    },
    {
      "cell_type": "code",
      "source": [
        "nome = 'Maria'          # cria uma variável chamada nome e armazena a string “Maria” nela.\n",
        "print(nome)             # Exibe a variável nome"
      ],
      "metadata": {
        "id": "XrrPrLtfkNgZ"
      },
      "execution_count": null,
      "outputs": []
    },
    {
      "cell_type": "code",
      "source": [
        "# Este é um comentário em Python\n",
        "print(\"Comentário acima não será executado\")\n",
        "\n",
        "'''\n",
        "Comentário, não será executado\n",
        "'''\n",
        "\n",
        "print(\"Comentário acima também não será executado\")"
      ],
      "metadata": {
        "id": "tcwwfwsakNdR"
      },
      "execution_count": null,
      "outputs": []
    },
    {
      "cell_type": "code",
      "source": [
        "texto = ('Python é uma linguagem de programação. \\nFácil de aprender e muito eficiente.')\n",
        "print(texto)"
      ],
      "metadata": {
        "id": "emk46RILkNZ8"
      },
      "execution_count": null,
      "outputs": []
    },
    {
      "cell_type": "markdown",
      "source": [
        "# **Concatenação de strings**"
      ],
      "metadata": {
        "id": "rJUjsWmNmuph"
      }
    },
    {
      "cell_type": "code",
      "source": [
        "nome = 'João'\n",
        "print('Olá ' + nome)"
      ],
      "metadata": {
        "id": "6yryEXZskdJo"
      },
      "execution_count": null,
      "outputs": []
    },
    {
      "cell_type": "code",
      "source": [
        "nome = 'João'\n",
        "print('Olá ' + nome)"
      ],
      "metadata": {
        "id": "ZH6vUzclkdGQ"
      },
      "execution_count": null,
      "outputs": []
    },
    {
      "cell_type": "code",
      "source": [
        "texto = ('Python é uma linguagem de programação fácil de aprender'\n",
        "         'e muito eficiente.')\n",
        "print(texto)"
      ],
      "metadata": {
        "id": "YpANEJYBkdCz"
      },
      "execution_count": null,
      "outputs": []
    },
    {
      "cell_type": "code",
      "source": [
        "# Quebra de linha\n",
        "texto = ('Python é uma linguagem de programação. \\nFácil de aprender e muito eficiente.')\n",
        "print(texto)"
      ],
      "metadata": {
        "id": "b1dEdVOdkc_g"
      },
      "execution_count": null,
      "outputs": []
    },
    {
      "cell_type": "code",
      "source": [
        "primeiro_nome = input(\"Digite seu primeiro nome: \")\n",
        "sobrenome = input(\"Digite seu sobrenome: \")\n",
        "nome_completo = primeiro_nome + \" \" + sobrenome\n",
        "\n",
        "print(f\"Seu nome completo é: {nome_completo}\")"
      ],
      "metadata": {
        "id": "toy-9p_5kc8X"
      },
      "execution_count": null,
      "outputs": []
    },
    {
      "cell_type": "markdown",
      "source": [
        "# **Operadores Matemáticos**"
      ],
      "metadata": {
        "id": "5f_tHGTmm5uZ"
      }
    },
    {
      "cell_type": "code",
      "source": [
        "a = 10      # Variável a vai ter o valor de 10\n",
        "b = 3       # Variável b vai ter o valor de 3"
      ],
      "metadata": {
        "id": "jkaoWs1um-qp"
      },
      "execution_count": null,
      "outputs": []
    },
    {
      "cell_type": "code",
      "source": [
        "soma = a + b               # Adição\n",
        "print(soma)                # Exibindo o valor da variável soma"
      ],
      "metadata": {
        "id": "8gmlO6Uhkc5Y"
      },
      "execution_count": null,
      "outputs": []
    },
    {
      "cell_type": "code",
      "source": [
        "subtracao = a - b          # Subtração\n",
        "print(subtracao)           # Exibindo o valor da variável subtracao"
      ],
      "metadata": {
        "id": "Pukf865Mkcyf"
      },
      "execution_count": null,
      "outputs": []
    },
    {
      "cell_type": "code",
      "source": [
        "multiplicacao = a * b      # Multiplicação\n",
        "print(multiplicacao)       # Exibindo o valor da variável multiplicacao"
      ],
      "metadata": {
        "id": "r_TBHrHZkcvZ"
      },
      "execution_count": null,
      "outputs": []
    },
    {
      "cell_type": "code",
      "source": [
        "divisao = a / b            # Divisão\n",
        "print(divisao)             # Exibindo o valor da variável divisao"
      ],
      "metadata": {
        "id": "GS1yje9FkcsB"
      },
      "execution_count": null,
      "outputs": []
    },
    {
      "cell_type": "code",
      "source": [
        "divisao_inteira = a // b   # Divisão inteira\n",
        "print(divisao_inteira)     # Exibindo o valor da variável divisao_inteira"
      ],
      "metadata": {
        "id": "26NEjB1Bk1IB"
      },
      "execution_count": null,
      "outputs": []
    },
    {
      "cell_type": "code",
      "source": [
        "resto = a % b         # Módulo (resto da divisão)\n",
        "print(resto)          # Exibindo o valor da variável resto"
      ],
      "metadata": {
        "id": "_95oZVd-k1Eq"
      },
      "execution_count": null,
      "outputs": []
    },
    {
      "cell_type": "code",
      "source": [
        "potencia = a ** b          # Potenciação\n",
        "print(potencia)            # Exibindo o valor da variável potencia"
      ],
      "metadata": {
        "id": "-jViGB4_k1CQ"
      },
      "execution_count": null,
      "outputs": []
    },
    {
      "cell_type": "code",
      "source": [
        "tax = 1000 / 100    # Resultado da divisão é 10\n",
        "price = 100         # Variável price recebe o valor 100\n",
        "print(tax * price)  # Exibe o valor da variável tax"
      ],
      "metadata": {
        "id": "4wxJ8l2wk0-5"
      },
      "execution_count": null,
      "outputs": []
    },
    {
      "cell_type": "code",
      "source": [
        "num1 = float(input(\"Digite o primeiro número: \"))\n",
        "num2 = float(input(\"Digite o segundo número: \"))"
      ],
      "metadata": {
        "id": "ReJYoHHsk08Q"
      },
      "execution_count": null,
      "outputs": []
    },
    {
      "cell_type": "code",
      "source": [
        "soma = num1 + num2\n",
        "subtracao = num1 - num2\n",
        "multiplicacao = num1 * num2\n",
        "divisao = num1 / num2"
      ],
      "metadata": {
        "id": "IoP0awI4k05R"
      },
      "execution_count": null,
      "outputs": []
    },
    {
      "cell_type": "code",
      "source": [
        "print(\"Soma:\", num1, \"+\", num2, \"=\", soma)\n",
        "print(\"Subtração:\", num1, \"-\", num2, \"=\", subtracao)\n",
        "print(\"Multiplicação:\", num1, \"*\", num2, \"=\", multiplicacao)\n",
        "print(\"Divisão:\", num1, \"/\", num2, \"=\", divisao)"
      ],
      "metadata": {
        "id": "ZbgM5Xvuk02I"
      },
      "execution_count": null,
      "outputs": []
    },
    {
      "cell_type": "code",
      "source": [
        "soma1 = 2 + 3 * 4 - 1 / 2\n",
        "print(soma1)"
      ],
      "metadata": {
        "id": "8-PwsMYQk0zK"
      },
      "execution_count": null,
      "outputs": []
    },
    {
      "cell_type": "code",
      "source": [
        "soma2 = (2 + 3) * 4 - 1 / 2\n",
        "print(soma2)"
      ],
      "metadata": {
        "id": "dqVYO4D0k0wI"
      },
      "execution_count": null,
      "outputs": []
    },
    {
      "cell_type": "code",
      "source": [
        "soma3 = 2 + (3 * 4) - 1 / 2\n",
        "print(soma3)"
      ],
      "metadata": {
        "id": "aYOCpsrtk0tZ"
      },
      "execution_count": null,
      "outputs": []
    },
    {
      "cell_type": "code",
      "source": [
        "num1 = float(input(\"Digite o primeiro número: \"))\n",
        "num2 = float(input(\"Digite o segundo número: \"))\n",
        "\n",
        "print(f\"Soma: {num1 + num2}\")\n",
        "print(f\"Subtração: {num1 - num2}\")\n",
        "print(f\"Multiplicação: {num1 * num2}\")\n",
        "print(f\"Divisão: {num1 / num2}\")"
      ],
      "metadata": {
        "id": "suSgmfdBk0qp"
      },
      "execution_count": null,
      "outputs": []
    },
    {
      "cell_type": "code",
      "source": [
        "numero = float(input(\"Digite um número: \"))\n",
        "\n",
        "print('Quadrado:', numero ** 2)\n",
        "print('Raiz quadrada:', numero ** (1/2))"
      ],
      "metadata": {
        "id": "n3g6oXpjk0nz"
      },
      "execution_count": null,
      "outputs": []
    },
    {
      "cell_type": "markdown",
      "source": [
        " # **Operadores de Comparação**"
      ],
      "metadata": {
        "id": "TyCJELQgmb8S"
      }
    },
    {
      "cell_type": "code",
      "source": [
        "x = 10           # Variável x atribui o valor 10\n",
        "y = 5            # Variável y atribui o valor 5"
      ],
      "metadata": {
        "id": "9tdeYzdHk0kx"
      },
      "execution_count": null,
      "outputs": []
    },
    {
      "cell_type": "code",
      "source": [
        "print(x > y)     # True, porque 10 é maior que 5\n",
        "print(x < y)     # False, porque 10 não é menor que 5"
      ],
      "metadata": {
        "id": "3sbWFVRVlolT"
      },
      "execution_count": null,
      "outputs": []
    },
    {
      "cell_type": "code",
      "source": [
        "print(x == y)    # False, porque 10 não é igual a 5\n",
        "print(x != y)    # True, porque 10 é diferente de 5"
      ],
      "metadata": {
        "id": "G1vkouVLloha"
      },
      "execution_count": null,
      "outputs": []
    },
    {
      "cell_type": "code",
      "source": [
        "print(x >= y)    # True, porque 10 é maior ou igual a 5\n",
        "print(x <= y)    # False, porque 10 não é menor ou igual a 5"
      ],
      "metadata": {
        "id": "EQAL0iSTloeR"
      },
      "execution_count": null,
      "outputs": []
    },
    {
      "cell_type": "code",
      "source": [
        "x = int(input(\"Digite um numero:\"))\n",
        "y = int(input(\"Digite outro numero:\"))\n",
        "\n",
        "if x > y or x == 1:\n",
        "  print(\"Condição satisfatória!\")\n",
        "else:\n",
        "  print(\"Condição não satisfatória!\")"
      ],
      "metadata": {
        "id": "bfafv9otloa6"
      },
      "execution_count": null,
      "outputs": []
    },
    {
      "cell_type": "code",
      "source": [
        "numero = int(input(\"Digite um número: \"))\n",
        "\n",
        "if numero % 2 == 0:\n",
        "    print(\"O número é par.\")\n",
        "else:\n",
        "    print(\"O número é ímpar.\")"
      ],
      "metadata": {
        "id": "r3MyYYrZloXq"
      },
      "execution_count": null,
      "outputs": []
    },
    {
      "cell_type": "code",
      "source": [
        "idade = int(input(\"Digite sua idade: \"))\n",
        "\n",
        "if idade >= 16:\n",
        "    print(\"Você pode votar!\")\n",
        "else:\n",
        "    print(\"Você ainda não pode votar.\")"
      ],
      "metadata": {
        "id": "t4w-k_0MloUR"
      },
      "execution_count": null,
      "outputs": []
    },
    {
      "cell_type": "code",
      "source": [
        "num1 = float(input(\"Digite o primeiro número: \"))\n",
        "num2 = float(input(\"Digite o segundo número: \"))\n",
        "num3 = float(input(\"Digite o terceiro número: \"))\n",
        "\n",
        "maior = max(num1, num2, num3)\n",
        "menor = min(num1, num2, num3)\n",
        "\n",
        "print('Maior número:', maior)\n",
        "print('Menor número:', menor)"
      ],
      "metadata": {
        "id": "I-QoAMPaloQ5"
      },
      "execution_count": null,
      "outputs": []
    },
    {
      "cell_type": "code",
      "source": [
        "nome = input(\"Digite seu nome: \")\n",
        "idade = int(input(\"Digite sua idade: \"))\n",
        "\n",
        "if idade > 18 and nome.lower().startswith(\"a\"):\n",
        "    print(\"Acesso permitido\")\n",
        "else:\n",
        "    print(\"Acesso negado\")"
      ],
      "metadata": {
        "id": "z0WbxkUDloNx"
      },
      "execution_count": null,
      "outputs": []
    },
    {
      "cell_type": "markdown",
      "source": [
        "# **Tipos de Dados**"
      ],
      "metadata": {
        "id": "2RF3CXIKnRUh"
      }
    }
  ]
}